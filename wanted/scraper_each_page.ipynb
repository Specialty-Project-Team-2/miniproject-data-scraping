{
 "cells": [
  {
   "cell_type": "code",
   "execution_count": 1,
   "metadata": {},
   "outputs": [],
   "source": [
    "from util.scraper import scrap\n",
    "\n",
    "from selenium.webdriver.chrome.webdriver import WebDriver\n",
    "\n",
    "from util.file_handler import load_file_line_by_line, create_directory_if_not_exists, make_file_path\n",
    "from util.driver_util import save_html_as, scroll_until_lender_of"
   ]
  },
  {
   "cell_type": "code",
   "execution_count": 2,
   "metadata": {},
   "outputs": [],
   "source": [
    "url_generator = load_file_line_by_line(\"wanted_scraping_url.txt\")"
   ]
  },
  {
   "cell_type": "code",
   "execution_count": 3,
   "metadata": {},
   "outputs": [],
   "source": [
    "# 페이지 저장을 위한 디렉토리 생성.\n",
    "ROOT_DIR = \"wanted\"\n",
    "\n",
    "create_directory_if_not_exists(make_file_path(ROOT_DIR))"
   ]
  },
  {
   "cell_type": "code",
   "execution_count": 4,
   "metadata": {},
   "outputs": [],
   "source": [
    "def extract_id_from_url(url : str):\n",
    "    return url.rpartition(\"/\")[-1]"
   ]
  },
  {
   "cell_type": "code",
   "execution_count": 5,
   "metadata": {},
   "outputs": [],
   "source": [
    "def execute_plan_unit(driver : WebDriver, url : str):\n",
    "    driver.get(url)\n",
    "    \n",
    "    css_selector = \"#__next > div.JobDetail_cn__WezJh > div.JobDetail_contentWrapper__DQDB6 > div.JobDetail_relativeWrapper__F9DT5 > div.JobContent_className___ca57 > div.JobContent_descriptionWrapper__SM4UD > section.JobWorkPlace_className__ra6rp\"\n",
    "    scroll_until_lender_of(driver, css_selector)\n",
    "    \n",
    "    id = extract_id_from_url(url)\n",
    "    save_html_as(driver, file_name=f\"{ROOT_DIR}/{id}.html\")"
   ]
  },
  {
   "cell_type": "code",
   "execution_count": 6,
   "metadata": {},
   "outputs": [],
   "source": [
    "def execute_plan(driver : WebDriver):\n",
    "    for url in url_generator:\n",
    "        execute_plan_unit(driver, url)"
   ]
  },
  {
   "cell_type": "code",
   "execution_count": 7,
   "metadata": {},
   "outputs": [
    {
     "ename": "KeyboardInterrupt",
     "evalue": "",
     "output_type": "error",
     "traceback": [
      "\u001b[1;31m---------------------------------------------------------------------------\u001b[0m",
      "\u001b[1;31mKeyboardInterrupt\u001b[0m                         Traceback (most recent call last)",
      "\u001b[1;32mc:\\Users\\wjdgn\\PythonWorkSpace\\miniproject-data-scraping\\scraper_each_page.ipynb Cell 7\u001b[0m line \u001b[0;36m1\n\u001b[1;32m----> <a href='vscode-notebook-cell:/c%3A/Users/wjdgn/PythonWorkSpace/miniproject-data-scraping/scraper_each_page.ipynb#W6sZmlsZQ%3D%3D?line=0'>1</a>\u001b[0m scrap(execute_plan)\n",
      "File \u001b[1;32mc:\\Users\\wjdgn\\PythonWorkSpace\\miniproject-data-scraping\\util\\scraper.py:11\u001b[0m, in \u001b[0;36mscrap\u001b[1;34m(execute_plan)\u001b[0m\n\u001b[0;32m      9\u001b[0m \u001b[39mdef\u001b[39;00m \u001b[39mscrap\u001b[39m(execute_plan : Callable[[WebDriver], \u001b[39mNone\u001b[39;00m]) \u001b[39m-\u001b[39m\u001b[39m>\u001b[39m \u001b[39mNone\u001b[39;00m:\n\u001b[0;32m     10\u001b[0m     \u001b[39mwith\u001b[39;00m webdriver\u001b[39m.\u001b[39mChrome(service\u001b[39m=\u001b[39mservice, options\u001b[39m=\u001b[39moptions) \u001b[39mas\u001b[39;00m driver:\n\u001b[1;32m---> 11\u001b[0m         execute_plan(driver)\n",
      "\u001b[1;32mc:\\Users\\wjdgn\\PythonWorkSpace\\miniproject-data-scraping\\scraper_each_page.ipynb Cell 7\u001b[0m line \u001b[0;36m3\n\u001b[0;32m      <a href='vscode-notebook-cell:/c%3A/Users/wjdgn/PythonWorkSpace/miniproject-data-scraping/scraper_each_page.ipynb#W6sZmlsZQ%3D%3D?line=0'>1</a>\u001b[0m \u001b[39mdef\u001b[39;00m \u001b[39mexecute_plan\u001b[39m(driver : WebDriver):\n\u001b[0;32m      <a href='vscode-notebook-cell:/c%3A/Users/wjdgn/PythonWorkSpace/miniproject-data-scraping/scraper_each_page.ipynb#W6sZmlsZQ%3D%3D?line=1'>2</a>\u001b[0m     \u001b[39mfor\u001b[39;00m url \u001b[39min\u001b[39;00m url_generator:\n\u001b[1;32m----> <a href='vscode-notebook-cell:/c%3A/Users/wjdgn/PythonWorkSpace/miniproject-data-scraping/scraper_each_page.ipynb#W6sZmlsZQ%3D%3D?line=2'>3</a>\u001b[0m         execute_plan_unit(driver, url)\n",
      "\u001b[1;32mc:\\Users\\wjdgn\\PythonWorkSpace\\miniproject-data-scraping\\scraper_each_page.ipynb Cell 7\u001b[0m line \u001b[0;36m5\n\u001b[0;32m      <a href='vscode-notebook-cell:/c%3A/Users/wjdgn/PythonWorkSpace/miniproject-data-scraping/scraper_each_page.ipynb#W6sZmlsZQ%3D%3D?line=1'>2</a>\u001b[0m driver\u001b[39m.\u001b[39mget(url)\n\u001b[0;32m      <a href='vscode-notebook-cell:/c%3A/Users/wjdgn/PythonWorkSpace/miniproject-data-scraping/scraper_each_page.ipynb#W6sZmlsZQ%3D%3D?line=3'>4</a>\u001b[0m css_selector \u001b[39m=\u001b[39m \u001b[39m\"\u001b[39m\u001b[39m#__next > div.JobDetail_cn__WezJh > div.JobDetail_contentWrapper__DQDB6 > div.JobDetail_relativeWrapper__F9DT5 > div.JobContent_className___ca57 > div.JobContent_descriptionWrapper__SM4UD > section.JobWorkPlace_className__ra6rp\u001b[39m\u001b[39m\"\u001b[39m\n\u001b[1;32m----> <a href='vscode-notebook-cell:/c%3A/Users/wjdgn/PythonWorkSpace/miniproject-data-scraping/scraper_each_page.ipynb#W6sZmlsZQ%3D%3D?line=4'>5</a>\u001b[0m wait_until_lender_of(driver, css_selector)\n\u001b[0;32m      <a href='vscode-notebook-cell:/c%3A/Users/wjdgn/PythonWorkSpace/miniproject-data-scraping/scraper_each_page.ipynb#W6sZmlsZQ%3D%3D?line=6'>7</a>\u001b[0m \u001b[39mid\u001b[39m \u001b[39m=\u001b[39m extract_id_from_url(url)\n\u001b[0;32m      <a href='vscode-notebook-cell:/c%3A/Users/wjdgn/PythonWorkSpace/miniproject-data-scraping/scraper_each_page.ipynb#W6sZmlsZQ%3D%3D?line=7'>8</a>\u001b[0m save_html_as(driver, file_name\u001b[39m=\u001b[39m\u001b[39mf\u001b[39m\u001b[39m\"\u001b[39m\u001b[39m{\u001b[39;00mROOT_DIR\u001b[39m}\u001b[39;00m\u001b[39m/\u001b[39m\u001b[39m{\u001b[39;00m\u001b[39mid\u001b[39m\u001b[39m}\u001b[39;00m\u001b[39m.html\u001b[39m\u001b[39m\"\u001b[39m)\n",
      "File \u001b[1;32mc:\\Users\\wjdgn\\PythonWorkSpace\\miniproject-data-scraping\\util\\driver_util.py:60\u001b[0m, in \u001b[0;36mwait_until_lender_of\u001b[1;34m(driver, css_selector, total_sec, unit_sec, total_scroll_sec)\u001b[0m\n\u001b[0;32m     57\u001b[0m \u001b[39mif\u001b[39;00m is_element_in_window(driver, css_selector): \u001b[39mbreak\u001b[39;00m\n\u001b[0;32m     59\u001b[0m scroll_down(driver, i)\n\u001b[1;32m---> 60\u001b[0m sleep(skip_time_unit)\n",
      "\u001b[1;31mKeyboardInterrupt\u001b[0m: "
     ]
    }
   ],
   "source": [
    "scrap(execute_plan)"
   ]
  },
  {
   "cell_type": "code",
   "execution_count": null,
   "metadata": {},
   "outputs": [],
   "source": []
  }
 ],
 "metadata": {
  "kernelspec": {
   "display_name": ".venv",
   "language": "python",
   "name": "python3"
  },
  "language_info": {
   "codemirror_mode": {
    "name": "ipython",
    "version": 3
   },
   "file_extension": ".py",
   "mimetype": "text/x-python",
   "name": "python",
   "nbconvert_exporter": "python",
   "pygments_lexer": "ipython3",
   "version": "3.8.10"
  },
  "orig_nbformat": 4
 },
 "nbformat": 4,
 "nbformat_minor": 2
}
