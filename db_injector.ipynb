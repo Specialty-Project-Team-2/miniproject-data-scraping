{
 "cells": [
  {
   "cell_type": "markdown",
   "metadata": {},
   "source": [
    "# 설명\n",
    "Json Data를 MySQL Query로 변경해주는 파일"
   ]
  },
  {
   "cell_type": "code",
   "execution_count": 1,
   "metadata": {},
   "outputs": [],
   "source": [
    "from util.file_handler import iterator_dir_children, make_file_path, load_json, saveAsFileWithGenerator\n",
    "from util.dict_to_sql import Dict_to_SQL"
   ]
  },
  {
   "cell_type": "code",
   "execution_count": 2,
   "metadata": {},
   "outputs": [],
   "source": [
    "# 특정 경로 내부의 모든 파일을 Generator로 가져오기.\n",
    "SOURCE_DIR = \"wanted_json\"\n",
    "SQL_FILE = \"wanted_mysql.sql\"\n",
    "\n",
    "# DB 칼럼명과 Json Key값 연결\n",
    "mapper = {\n",
    "    \"company_name\": \"company_name\",\n",
    "    \"location\": \"location\",\n",
    "    \"sales\": \"sales_amount\",\n",
    "}"
   ]
  },
  {
   "cell_type": "code",
   "execution_count": 6,
   "metadata": {},
   "outputs": [
    {
     "name": "stdout",
     "output_type": "stream",
     "text": [
      "Error reading directory: [WinError 3] 지정된 경로를 찾을 수 없습니다: './data/wanted_json'\n"
     ]
    }
   ],
   "source": [
    "it = iterator_dir_children(SOURCE_DIR)\n",
    "file_path = make_file_path(SQL_FILE)\n",
    "\n",
    "reduce_to_sql = Dict_to_SQL(\"company\", mapper)\n",
    "\n",
    "it = map(load_json, it)\n",
    "sql = reduce_to_sql.make_query(it)\n",
    "\n",
    "sql"
   ]
  },
  {
   "cell_type": "code",
   "execution_count": 2,
   "metadata": {},
   "outputs": [],
   "source": [
    "member_mapper = {\n",
    "    \"email\": \"email\",\n",
    "    \"nickname\": \"nickname\",\n",
    "    \"password\": \"password\",\n",
    "}\n",
    "\n",
    "company_mapper = {\n",
    "    \"company_name\": \"companyName\",\n",
    "    \"location\": \"location\",\n",
    "}\n",
    "\n",
    "comment_mapper = {\n",
    "    \"comment\": \"comment\",\n",
    "    \"detail_id\": \"detailid\",\n",
    "    \"member_id\": \"member_id\",\n",
    "}"
   ]
  },
  {
   "cell_type": "code",
   "execution_count": 3,
   "metadata": {},
   "outputs": [],
   "source": [
    "signup = [\n",
    "    {\n",
    "      \"nickname\": \"nick\",\n",
    "      \"id\": 1,\n",
    "      \"email\": \"rladydqls99@naver.com\",\n",
    "      \"password\": 1234\n",
    "    },\n",
    "    {\n",
    "      \"nickname\": \"rasd\",\n",
    "      \"email\": \"rlaydld@asd.com\",\n",
    "      \"password\": \"1234\",\n",
    "      \"id\": 2\n",
    "    }\n",
    "  ]\n",
    "\n",
    "login = [\n",
    "    {\n",
    "      \"id\": 1,\n",
    "      \"email\": \"rladydqls99@naver.com\",\n",
    "      \"password\": 1234\n",
    "    },\n",
    "    {\n",
    "      \"email\": \"rladydqls99@naver.com\",\n",
    "      \"password\": \"1234\",\n",
    "      \"id\": 2\n",
    "    },\n",
    "    {\n",
    "      \"email\": \"rladydqls92@naver.com\",\n",
    "      \"password\": \"asdasd\",\n",
    "      \"id\": 3\n",
    "    }\n",
    "  ]\n",
    "\n",
    "comments= [\n",
    "    {\n",
    "      \"id\": 1,\n",
    "      \"comment\": \"복지 좋음\",\n",
    "      \"member_id\": 1,\n",
    "      \"detailid\": 1234\n",
    "    },\n",
    "    {\n",
    "      \"id\": 3,\n",
    "      \"comment\": \"사장님 착함\",\n",
    "      \"member_id\": 1,\n",
    "      \"detailid\": 1234\n",
    "    },\n",
    "    {\n",
    "      \"id\": 4,\n",
    "      \"comment\": \"야근 많음\",\n",
    "      \"member_id\": 2,\n",
    "      \"detailid\": 1235\n",
    "    },\n",
    "    {\n",
    "      \"id\": 5,\n",
    "      \"comment\": \"밥 맛있음\",\n",
    "      \"member_id\": 2,\n",
    "      \"detailid\": 1235\n",
    "    }\n",
    "  ]\n",
    "\n",
    "company= [\n",
    "    {\n",
    "      \"companyName\": \"samsung\",\n",
    "      \"location\": \"seoul\",\n",
    "      \"id\": 1,\n",
    "      \"detailid\": 1234\n",
    "    },\n",
    "    {\n",
    "      \"companyName\": \"toss\",\n",
    "      \"location\": \"daejeon\",\n",
    "      \"id\": 2,\n",
    "      \"detailid\": 1236\n",
    "    },\n",
    "    {\n",
    "      \"companyName\": \"samsung\",\n",
    "      \"location\": \"daegu\",\n",
    "      \"id\": 3,\n",
    "      \"detailid\": 1235\n",
    "    },\n",
    "    {\n",
    "      \"companyName\": \"samsung\",\n",
    "      \"location\": \"seoul\",\n",
    "      \"id\": 4,\n",
    "      \"detailid\": 1236\n",
    "    },\n",
    "    {\n",
    "      \"companyName\": \"toss\",\n",
    "      \"location\": \"daejeon\",\n",
    "      \"id\": 5,\n",
    "      \"detailid\": 1237\n",
    "    }\n",
    "  ]"
   ]
  },
  {
   "cell_type": "code",
   "execution_count": 4,
   "metadata": {},
   "outputs": [
    {
     "data": {
      "text/plain": [
       "\"INSERT INTO `member` (id, email, nickname, password) VALUES ('1', 'rladydqls99@naver.com', 'nick', '1234') ,('2', 'rlaydld@asd.com', 'rasd', '1234');\""
      ]
     },
     "execution_count": 4,
     "metadata": {},
     "output_type": "execute_result"
    }
   ],
   "source": [
    "reduce_to_sql = Dict_to_SQL(\"member\", member_mapper)\n",
    "\n",
    "it = iter(signup)\n",
    "sql = reduce_to_sql.make_query(it)\n",
    "\n",
    "sql"
   ]
  },
  {
   "cell_type": "code",
   "execution_count": 5,
   "metadata": {},
   "outputs": [
    {
     "data": {
      "text/plain": [
       "\"INSERT INTO `company` (id, company_name, location) VALUES ('1234', 'samsung', 'seoul') ,('1236', 'toss', 'daejeon') ,('1235', 'samsung', 'daegu') ,('1236', 'samsung', 'seoul') ,('1237', 'toss', 'daejeon');\""
      ]
     },
     "execution_count": 5,
     "metadata": {},
     "output_type": "execute_result"
    }
   ],
   "source": [
    "reduce_to_sql = Dict_to_SQL(\"company\", company_mapper)\n",
    "\n",
    "it = iter(company)\n",
    "sql = reduce_to_sql.make_query(it)\n",
    "\n",
    "sql"
   ]
  },
  {
   "cell_type": "code",
   "execution_count": 6,
   "metadata": {},
   "outputs": [
    {
     "data": {
      "text/plain": [
       "\"INSERT INTO `comment` (id, comment, detail_id, member_id) VALUES ('1', '복지 좋음', '1234', '1') ,('3', '사장님 착함', '1234', '1') ,('4', '야근 많음', '1235', '2') ,('5', '밥 맛있음', '1235', '2');\""
      ]
     },
     "execution_count": 6,
     "metadata": {},
     "output_type": "execute_result"
    }
   ],
   "source": [
    "reduce_to_sql = Dict_to_SQL(\"comment\", comment_mapper)\n",
    "\n",
    "it = iter(comments)\n",
    "sql = reduce_to_sql.make_query(it)\n",
    "\n",
    "sql"
   ]
  },
  {
   "cell_type": "code",
   "execution_count": null,
   "metadata": {},
   "outputs": [],
   "source": []
  }
 ],
 "metadata": {
  "kernelspec": {
   "display_name": ".venv",
   "language": "python",
   "name": "python3"
  },
  "language_info": {
   "codemirror_mode": {
    "name": "ipython",
    "version": 3
   },
   "file_extension": ".py",
   "mimetype": "text/x-python",
   "name": "python",
   "nbconvert_exporter": "python",
   "pygments_lexer": "ipython3",
   "version": "3.8.10"
  },
  "orig_nbformat": 4
 },
 "nbformat": 4,
 "nbformat_minor": 2
}
