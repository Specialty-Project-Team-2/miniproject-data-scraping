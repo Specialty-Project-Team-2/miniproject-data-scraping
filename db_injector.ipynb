{
 "cells": [
  {
   "cell_type": "markdown",
   "metadata": {},
   "source": [
    "# 설명\n",
    "Json Data를 MySQL Query로 변경해주는 파일"
   ]
  },
  {
   "cell_type": "code",
   "execution_count": 22,
   "metadata": {},
   "outputs": [],
   "source": [
    "from util.file_handler import iterator_dir_children, make_file_path, load_json"
   ]
  },
  {
   "cell_type": "code",
   "execution_count": 23,
   "metadata": {},
   "outputs": [],
   "source": [
    "# 특정 경로 내부의 모든 파일을 Generator로 가져오기.\n",
    "SOURCE_DIR = \"wanted_json\"\n",
    "SQL_FILE = \"wanted_mysql.sql\"\n",
    "\n",
    "json_paths = iterator_dir_children(SOURCE_DIR)"
   ]
  },
  {
   "cell_type": "code",
   "execution_count": 24,
   "metadata": {},
   "outputs": [],
   "source": [
    "def extract_json(file_name):\n",
    "    return load_json(file_name)"
   ]
  },
  {
   "cell_type": "code",
   "execution_count": 25,
   "metadata": {},
   "outputs": [],
   "source": [
    "def get_company_name(json):\n",
    "    if \"company_name\" not in json: return \"\"\n",
    "    return json[\"company_name\"]\n",
    "\n",
    "def get_location(json):\n",
    "    if \"location\" not in json: return \"\"\n",
    "    return json[\"location\"]\n",
    "\n",
    "def get_sales(json):\n",
    "    if \"sales\" not in json: return \"\"\n",
    "    return json[\"sales\"]"
   ]
  },
  {
   "cell_type": "code",
   "execution_count": 26,
   "metadata": {},
   "outputs": [],
   "source": [
    "query_insert = \"insert into company (company_name, location, sales) VALUES\"\n",
    "query_data = lambda json: f\"('{get_company_name(json)}', '{get_location(json)}', {get_sales(json)})\""
   ]
  },
  {
   "cell_type": "code",
   "execution_count": 27,
   "metadata": {},
   "outputs": [],
   "source": [
    "def first_query(query):\n",
    "    return f\"{query_insert} {query}\"\n",
    "\n",
    "def other_query(query):\n",
    "    return f\",{query}\"\n",
    "\n",
    "def make_query(generator):\n",
    "    yield first_query(next(generator))\n",
    "    \n",
    "    for query in generator:\n",
    "        yield other_query(query)\n",
    "    \n",
    "    yield \";\""
   ]
  },
  {
   "cell_type": "code",
   "execution_count": 28,
   "metadata": {},
   "outputs": [],
   "source": [
    "file_path = make_file_path(SQL_FILE)\n",
    "\n",
    "with open(file_path, 'w', encoding=\"utf-8\") as file:\n",
    "    json_iterator = map(extract_json, json_paths)\n",
    "    query_iterator = map(query_data, json_iterator)\n",
    "    \n",
    "    for query in make_query(query_iterator):\n",
    "        file.write(query)\n"
   ]
  },
  {
   "cell_type": "code",
   "execution_count": null,
   "metadata": {},
   "outputs": [],
   "source": []
  }
 ],
 "metadata": {
  "kernelspec": {
   "display_name": ".venv",
   "language": "python",
   "name": "python3"
  },
  "language_info": {
   "codemirror_mode": {
    "name": "ipython",
    "version": 3
   },
   "file_extension": ".py",
   "mimetype": "text/x-python",
   "name": "python",
   "nbconvert_exporter": "python",
   "pygments_lexer": "ipython3",
   "version": "3.8.10"
  },
  "orig_nbformat": 4
 },
 "nbformat": 4,
 "nbformat_minor": 2
}
