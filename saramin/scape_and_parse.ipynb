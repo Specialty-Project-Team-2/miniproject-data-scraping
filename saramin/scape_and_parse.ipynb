{
 "cells": [
  {
   "cell_type": "code",
   "execution_count": 8,
   "metadata": {},
   "outputs": [],
   "source": [
    "from util.scraper import scrap\n",
    "\n",
    "from util.file_handler import saveAsFileWithGenerator, make_file_path\n",
    "\n",
    "from bs4 import BeautifulSoup\n",
    "from bs4.element import PageElement\n",
    "\n",
    "from selenium.webdriver.chrome.webdriver import WebDriver\n",
    "\n",
    "from itertools import chain\n",
    "\n",
    "\n",
    "ROOT_URL = \"https://www.jobkorea.co.kr/\"\n",
    "ARCHIVE_NAME = make_file_path(\"saramin.txt\")\n",
    "id_generator_chain = []"
   ]
  },
  {
   "cell_type": "code",
   "execution_count": 9,
   "metadata": {},
   "outputs": [],
   "source": [
    "def extract_href(el : PageElement):\n",
    "    path = el.find(name=\"a\")[\"href\"]\n",
    "    return path.split(\"/\")[2]\n",
    "\n",
    "def execute_plan_unit(driver : WebDriver, page : int):\n",
    "    url_page = f\"https://www.jobkorea.co.kr/Salary/Index?coKeyword=&tabindex=2&indsCtgrCode=&indsCode=&jobTypeCode=10031&haveAGI=0&orderCode=2&coPage={page}\"\n",
    "    driver.get(url_page)\n",
    "\n",
    "    soup = BeautifulSoup(driver.page_source, \"html.parser\")\n",
    "    \n",
    "    el_ul = soup.find(name=\"ul\", attrs={\"id\": \"listCompany\"})\n",
    "    if not el_ul: return\n",
    "    \n",
    "    el_li_list = el_ul.find_all(name=\"li\")\n",
    "    \n",
    "    id_gen_unit = map(extract_href, el_li_list)\n",
    "    id_generator_chain.append(id_gen_unit)\n"
   ]
  },
  {
   "cell_type": "code",
   "execution_count": 10,
   "metadata": {},
   "outputs": [],
   "source": [
    "def execute_plan(driver : WebDriver):\n",
    "    for i in range(1, 291):\n",
    "        execute_plan_unit(driver, i)"
   ]
  },
  {
   "cell_type": "code",
   "execution_count": 12,
   "metadata": {},
   "outputs": [],
   "source": [
    "def add_lineswap(i):\n",
    "    return f\"{i}\\n\""
   ]
  },
  {
   "cell_type": "code",
   "execution_count": 11,
   "metadata": {},
   "outputs": [],
   "source": [
    "scrap(execute_plan)"
   ]
  },
  {
   "cell_type": "code",
   "execution_count": 13,
   "metadata": {},
   "outputs": [],
   "source": [
    "# 각 페이지를 실제 파일에 적재\n",
    "id_generator = chain(*id_generator_chain)\n",
    "id_generator = map(add_lineswap, id_generator)\n",
    "\n",
    "saveAsFileWithGenerator(\"saramin.txt\", id_generator)"
   ]
  },
  {
   "cell_type": "code",
   "execution_count": null,
   "metadata": {},
   "outputs": [],
   "source": []
  }
 ],
 "metadata": {
  "kernelspec": {
   "display_name": ".venv",
   "language": "python",
   "name": "python3"
  },
  "language_info": {
   "codemirror_mode": {
    "name": "ipython",
    "version": 3
   },
   "file_extension": ".py",
   "mimetype": "text/x-python",
   "name": "python",
   "nbconvert_exporter": "python",
   "pygments_lexer": "ipython3",
   "version": "3.8.10"
  },
  "orig_nbformat": 4
 },
 "nbformat": 4,
 "nbformat_minor": 2
}
