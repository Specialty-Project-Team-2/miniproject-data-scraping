{
 "cells": [
  {
   "cell_type": "code",
   "execution_count": 2,
   "metadata": {},
   "outputs": [],
   "source": [
    "from util.scraper import scrap\n",
    "from util.file_handler import create_directory_if_not_exists, make_file_path, saveAsJson, load_file_line_by_line\n",
    "from util.driver_util import sleep_like_human\n",
    "\n",
    "from selenium.webdriver.chrome.webdriver import WebDriver\n",
    "\n",
    "from bs4 import BeautifulSoup\n",
    "from bs4.element import Tag\n"
   ]
  },
  {
   "cell_type": "code",
   "execution_count": 3,
   "metadata": {},
   "outputs": [],
   "source": [
    "from time import sleep\n",
    "from random import uniform\n"
   ]
  },
  {
   "cell_type": "code",
   "execution_count": 4,
   "metadata": {},
   "outputs": [],
   "source": [
    "from winsound import Beep"
   ]
  },
  {
   "cell_type": "code",
   "execution_count": 5,
   "metadata": {},
   "outputs": [],
   "source": [
    "ROOT_DIR = make_file_path(\"saramin\")\n",
    "SOURCE_FILE = \"saramin.txt\"\n",
    "\n",
    "create_directory_if_not_exists(ROOT_DIR)\n"
   ]
  },
  {
   "cell_type": "code",
   "execution_count": 6,
   "metadata": {},
   "outputs": [],
   "source": [
    "def opationalGetter(instance, attr, default=None):\n",
    "    return getattr(instance, attr) if instance else default\n",
    "\n",
    "def opationalCall(instance, func, default=None):\n",
    "    return getattr(instance, func) if instance else (lambda *args, **kargs: default)\n",
    "\n",
    "def opationalAttr(instance, attr, default=None):\n",
    "    return instance[attr] if instance else default\n"
   ]
  },
  {
   "cell_type": "code",
   "execution_count": 7,
   "metadata": {},
   "outputs": [],
   "source": [
    "def optionalString(element):\n",
    "    element : str = opationalGetter(element, \"string\")\n",
    "    element : str = opationalCall(element, \"strip\")()\n",
    "    return element"
   ]
  },
  {
   "cell_type": "code",
   "execution_count": 8,
   "metadata": {},
   "outputs": [],
   "source": [
    "def name_parser(soup : BeautifulSoup):\n",
    "    stages = [\n",
    "        \"body > div.company-wrap > div.company-header > div.company-header-container\",\n",
    "        \"div.name\"\n",
    "    ]\n",
    "    \n",
    "    element = soup\n",
    "    for stage in stages:\n",
    "        element = element.select_one(stage)\n",
    "    element : str = optionalString(element)\n",
    "    return \"기업명\", element"
   ]
  },
  {
   "cell_type": "code",
   "execution_count": 9,
   "metadata": {},
   "outputs": [],
   "source": [
    "def logo_parser(soup : BeautifulSoup):\n",
    "    stages = [\n",
    "        \"body > div.company-wrap > div.company-header > div.company-header-container\",\n",
    "        \"img.width\"\n",
    "    ]\n",
    "\n",
    "    element = soup\n",
    "    for stage in stages:\n",
    "        element = element.select_one(stage)\n",
    "    element : str = opationalAttr(element, \"src\")\n",
    "    element : str = 'https:' + element if element else None\n",
    "    return \"로고_URL\", element"
   ]
  },
  {
   "cell_type": "code",
   "execution_count": 10,
   "metadata": {},
   "outputs": [],
   "source": [
    "def attr_parser(soup : BeautifulSoup):\n",
    "    root : Tag = soup.select(\"#company-body > div.company-body-infomation > div.company-infomation-row.basic-infomation > div > table > tbody > tr.field\")\n",
    "    for el in root:\n",
    "        arr = el.select(\"th.field-label, td.field-value\")\n",
    "        if len(arr) != 4: continue\n",
    "        a,b,c,d = arr\n",
    "        \n",
    "        b = b.select_one(\"div.value, div.salary-average-item\")\n",
    "        d = d.select_one(\"div.value, div.salary-average-item\")\n",
    "        a,b,c,d = tuple(optionalString(i) for i in (a,b,c,d))\n",
    "        \n",
    "        yield a, b\n",
    "        yield c, d"
   ]
  },
  {
   "cell_type": "code",
   "execution_count": 11,
   "metadata": {},
   "outputs": [],
   "source": [
    "def html_to_json(soup : BeautifulSoup):\n",
    "    result = {}\n",
    "    \n",
    "    for func in [name_parser, logo_parser]:\n",
    "        key, val = func(soup)\n",
    "        result[key] = val\n",
    "    for key, val in attr_parser(soup):\n",
    "        result[key] = val\n",
    "    \n",
    "    return result"
   ]
  },
  {
   "cell_type": "code",
   "execution_count": 13,
   "metadata": {},
   "outputs": [],
   "source": [
    "def execute_plan_unit(driver : WebDriver, id : int):\n",
    "    url = f\"https://www.jobkorea.co.kr/company/{id}\"\n",
    "    driver.get(url)\n",
    "    \n",
    "    sleep_like_human()\n",
    "    \n",
    "    soup = BeautifulSoup(driver.page_source, \"html.parser\")\n",
    "    return html_to_json(soup)"
   ]
  },
  {
   "cell_type": "code",
   "execution_count": 14,
   "metadata": {},
   "outputs": [],
   "source": [
    "def execute_plan(driver : WebDriver, start : int = -1, end : int = 1000000000, black_list : tuple = tuple()):\n",
    "    for idx, id in enumerate(load_file_line_by_line(SOURCE_FILE)):\n",
    "        if idx < start: continue\n",
    "        if idx >= end:  break\n",
    "        if idx in black_list: continue\n",
    "        \n",
    "        print(idx, id)\n",
    "        saveAsJson(f\"{ROOT_DIR}/{id}.json\", execute_plan_unit(driver, id))\n",
    "        \n",
    "        Beep(1000, 500)\n",
    "        "
   ]
  },
  {
   "cell_type": "code",
   "execution_count": 17,
   "metadata": {},
   "outputs": [
    {
     "name": "stdout",
     "output_type": "stream",
     "text": [
      "155 1977592\n",
      "156 45962250\n",
      "157 1637769\n",
      "158 1544709\n",
      "159 1595884\n",
      "160 1774290\n",
      "161 1552134\n",
      "162 42960697\n",
      "163 1659278\n",
      "164 1880678\n",
      "165 1686783\n",
      "166 45673083\n",
      "167 1563384\n",
      "168 1688706\n",
      "169 1906019\n",
      "170 1802919\n",
      "171 1976336\n",
      "172 1392574\n",
      "173 1523727\n",
      "174 1833921\n",
      "175 1791771\n",
      "176 1913523\n",
      "177 1650408\n",
      "178 1363393\n",
      "179 16151703\n",
      "180 1528451\n",
      "181 1891525\n",
      "182 16153118\n",
      "183 1620897\n",
      "184 16152646\n",
      "185 1831538\n",
      "186 1394073\n",
      "187 1636977\n",
      "188 1938552\n",
      "189 16152584\n",
      "190 1407046\n",
      "191 1947356\n",
      "192 1554402\n",
      "193 43042976\n",
      "194 1568650\n",
      "195 43501001\n",
      "196 1601608\n",
      "197 1756390\n",
      "198 1447867\n",
      "199 1820327\n"
     ]
    }
   ],
   "source": [
    "scrap(lambda func: execute_plan(func, start=-1, end=200, black_list=(17,53,80,99,140,154)))"
   ]
  },
  {
   "cell_type": "code",
   "execution_count": null,
   "metadata": {},
   "outputs": [],
   "source": []
  }
 ],
 "metadata": {
  "kernelspec": {
   "display_name": ".venv",
   "language": "python",
   "name": "python3"
  },
  "language_info": {
   "codemirror_mode": {
    "name": "ipython",
    "version": 3
   },
   "file_extension": ".py",
   "mimetype": "text/x-python",
   "name": "python",
   "nbconvert_exporter": "python",
   "pygments_lexer": "ipython3",
   "version": "3.8.10"
  },
  "orig_nbformat": 4
 },
 "nbformat": 4,
 "nbformat_minor": 2
}
