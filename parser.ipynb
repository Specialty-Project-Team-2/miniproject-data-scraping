{
 "cells": [
  {
   "cell_type": "code",
   "execution_count": 100,
   "metadata": {},
   "outputs": [],
   "source": [
    "from bs4 import BeautifulSoup\n",
    "from util.file_handler import load_file, saveAsFileWithGenerator, make_file_path"
   ]
  },
  {
   "cell_type": "code",
   "execution_count": 104,
   "metadata": {},
   "outputs": [],
   "source": [
    "# 파일 가져오기\n",
    "html_content = load_file(\"wanted_scraping_html.html\")"
   ]
  },
  {
   "cell_type": "code",
   "execution_count": 105,
   "metadata": {},
   "outputs": [],
   "source": [
    "# BeautifulSoup를 사용하여 HTML 파싱\n",
    "soup = BeautifulSoup(html_content, \"html.parser\")\n",
    "html_content = None"
   ]
  },
  {
   "cell_type": "code",
   "execution_count": 106,
   "metadata": {},
   "outputs": [],
   "source": [
    "# 원하는 구역만 추출\n",
    "root_element = soup.find_all(name=\"div\", attrs={\"class\": \"List_List_container__JnQMS\"})[-1].ul\n",
    "soup = None"
   ]
  },
  {
   "cell_type": "code",
   "execution_count": 107,
   "metadata": {},
   "outputs": [],
   "source": [
    "# 각 요소에 적용할 함수들\n",
    "def extract_href(el_child):\n",
    "    return el_child.find(name=\"a\")[\"href\"]\n",
    "\n",
    "def filter_not_null(el_child):\n",
    "    return el_child\n",
    "\n",
    "def add_prefix(href):\n",
    "    return f\"https://www.wanted.co.kr{href}\\n\""
   ]
  },
  {
   "cell_type": "code",
   "execution_count": 108,
   "metadata": {},
   "outputs": [],
   "source": [
    "# 파이프라인 생성\n",
    "iter_el = root_element.find_all(name=\"li\")\n",
    "iter_href_raw = map(extract_href, iter_el)\n",
    "iter_href = filter(filter_not_null, iter_href_raw)\n",
    "iter_url = map(add_prefix, iter_href)\n",
    "\n",
    "# 저장\n",
    "saveAsFileWithGenerator(make_file_path(\"wanted_scraping_url.txt\"), iter_url)"
   ]
  },
  {
   "cell_type": "code",
   "execution_count": null,
   "metadata": {},
   "outputs": [],
   "source": []
  }
 ],
 "metadata": {
  "kernelspec": {
   "display_name": ".venv",
   "language": "python",
   "name": "python3"
  },
  "language_info": {
   "codemirror_mode": {
    "name": "ipython",
    "version": 3
   },
   "file_extension": ".py",
   "mimetype": "text/x-python",
   "name": "python",
   "nbconvert_exporter": "python",
   "pygments_lexer": "ipython3",
   "version": "3.8.10"
  },
  "orig_nbformat": 4
 },
 "nbformat": 4,
 "nbformat_minor": 2
}
