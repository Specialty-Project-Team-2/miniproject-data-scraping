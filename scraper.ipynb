{
 "cells": [
  {
   "cell_type": "markdown",
   "metadata": {},
   "source": [
    "# 참고 링크 \n",
    "[Python Selenium Webdriver Chrome Option 관련 오류](https://youngkdevlog.tistory.com/57)"
   ]
  },
  {
   "cell_type": "code",
   "execution_count": 1,
   "metadata": {},
   "outputs": [],
   "source": [
    "from selenium.webdriver.chrome.webdriver import WebDriver\n",
    "\n",
    "from util.driver_util import save_html_as, scroll_until_limit\n",
    "from util.scraper import scrap"
   ]
  },
  {
   "cell_type": "code",
   "execution_count": 2,
   "metadata": {},
   "outputs": [],
   "source": [
    "def execute_plan(driver : WebDriver):\n",
    "    driver.get(\"https://www.wanted.co.kr/wdlist/518?country=kr&job_sort=job.latest_order&years=-1&locations=all\")\n",
    "    \n",
    "    scroll_until_limit(driver, max_num=10000, pause_time=2)\n",
    "    \n",
    "    save_html_as(driver, file_name=\"wanted_scraping_html.html\")"
   ]
  },
  {
   "cell_type": "code",
   "execution_count": 3,
   "metadata": {},
   "outputs": [
    {
     "name": "stdout",
     "output_type": "stream",
     "text": [
      "1번째 높이: None\n",
      "deque([None, None, None, None, 0], maxlen=5)\n",
      "\n",
      "2번째 높이: None\n",
      "deque([None, None, None, 0, 2051], maxlen=5)\n",
      "\n",
      "3번째 높이: None\n",
      "deque([None, None, 0, 2051, 3793], maxlen=5)\n",
      "\n"
     ]
    },
    {
     "ename": "KeyboardInterrupt",
     "evalue": "",
     "output_type": "error",
     "traceback": [
      "\u001b[1;31m---------------------------------------------------------------------------\u001b[0m",
      "\u001b[1;31mKeyboardInterrupt\u001b[0m                         Traceback (most recent call last)",
      "\u001b[1;32mc:\\Users\\wjdgn\\PythonWorkSpace\\miniproject-data-scraping\\scraper.ipynb Cell 4\u001b[0m line \u001b[0;36m1\n\u001b[1;32m----> <a href='vscode-notebook-cell:/c%3A/Users/wjdgn/PythonWorkSpace/miniproject-data-scraping/scraper.ipynb#W3sZmlsZQ%3D%3D?line=0'>1</a>\u001b[0m scrap(execute_plan)\n",
      "File \u001b[1;32mc:\\Users\\wjdgn\\PythonWorkSpace\\miniproject-data-scraping\\util\\scraper.py:11\u001b[0m, in \u001b[0;36mscrap\u001b[1;34m(execute_plan)\u001b[0m\n\u001b[0;32m      9\u001b[0m \u001b[39mdef\u001b[39;00m \u001b[39mscrap\u001b[39m(execute_plan : Callable[[WebDriver], \u001b[39mNone\u001b[39;00m]) \u001b[39m-\u001b[39m\u001b[39m>\u001b[39m \u001b[39mNone\u001b[39;00m:\n\u001b[0;32m     10\u001b[0m     \u001b[39mwith\u001b[39;00m webdriver\u001b[39m.\u001b[39mChrome(service\u001b[39m=\u001b[39mservice, options\u001b[39m=\u001b[39moptions) \u001b[39mas\u001b[39;00m driver:\n\u001b[1;32m---> 11\u001b[0m         execute_plan(driver)\n",
      "\u001b[1;32mc:\\Users\\wjdgn\\PythonWorkSpace\\miniproject-data-scraping\\scraper.ipynb Cell 4\u001b[0m line \u001b[0;36m4\n\u001b[0;32m      <a href='vscode-notebook-cell:/c%3A/Users/wjdgn/PythonWorkSpace/miniproject-data-scraping/scraper.ipynb#W3sZmlsZQ%3D%3D?line=0'>1</a>\u001b[0m \u001b[39mdef\u001b[39;00m \u001b[39mexecute_plan\u001b[39m(driver : WebDriver):\n\u001b[0;32m      <a href='vscode-notebook-cell:/c%3A/Users/wjdgn/PythonWorkSpace/miniproject-data-scraping/scraper.ipynb#W3sZmlsZQ%3D%3D?line=1'>2</a>\u001b[0m     driver\u001b[39m.\u001b[39mget(\u001b[39m\"\u001b[39m\u001b[39mhttps://www.wanted.co.kr/wdlist/518?country=kr&job_sort=job.latest_order&years=-1&locations=all\u001b[39m\u001b[39m\"\u001b[39m)\n\u001b[1;32m----> <a href='vscode-notebook-cell:/c%3A/Users/wjdgn/PythonWorkSpace/miniproject-data-scraping/scraper.ipynb#W3sZmlsZQ%3D%3D?line=3'>4</a>\u001b[0m     scroll_until_limit(driver, max_num\u001b[39m=\u001b[39;49m\u001b[39m10000\u001b[39;49m, pause_time\u001b[39m=\u001b[39;49m\u001b[39m2\u001b[39;49m)\n\u001b[0;32m      <a href='vscode-notebook-cell:/c%3A/Users/wjdgn/PythonWorkSpace/miniproject-data-scraping/scraper.ipynb#W3sZmlsZQ%3D%3D?line=5'>6</a>\u001b[0m     save_html_as(driver, file_name\u001b[39m=\u001b[39m\u001b[39m\"\u001b[39m\u001b[39mwanted_scraping_html123.html\u001b[39m\u001b[39m\"\u001b[39m)\n",
      "File \u001b[1;32mc:\\Users\\wjdgn\\PythonWorkSpace\\miniproject-data-scraping\\util\\driver_util.py:26\u001b[0m, in \u001b[0;36mscroll_until_limit\u001b[1;34m(driver, max_num, unit_scroll_height, pause_time, patience)\u001b[0m\n\u001b[0;32m     23\u001b[0m \u001b[39mprint\u001b[39m(que)\n\u001b[0;32m     24\u001b[0m \u001b[39mprint\u001b[39m()\n\u001b[1;32m---> 26\u001b[0m time\u001b[39m.\u001b[39;49msleep(pause_time)\n",
      "\u001b[1;31mKeyboardInterrupt\u001b[0m: "
     ]
    }
   ],
   "source": [
    "scrap(execute_plan)\n"
   ]
  },
  {
   "cell_type": "code",
   "execution_count": null,
   "metadata": {},
   "outputs": [],
   "source": []
  }
 ],
 "metadata": {
  "kernelspec": {
   "display_name": ".venv",
   "language": "python",
   "name": "python3"
  },
  "language_info": {
   "codemirror_mode": {
    "name": "ipython",
    "version": 3
   },
   "file_extension": ".py",
   "mimetype": "text/x-python",
   "name": "python",
   "nbconvert_exporter": "python",
   "pygments_lexer": "ipython3",
   "version": "3.8.10"
  },
  "orig_nbformat": 4
 },
 "nbformat": 4,
 "nbformat_minor": 2
}
